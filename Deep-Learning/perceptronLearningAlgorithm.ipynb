{
  "nbformat": 4,
  "nbformat_minor": 0,
  "metadata": {
    "colab": {
      "provenance": [],
      "authorship_tag": "ABX9TyPPNPOxdV+y4QCIWOT28JUL",
      "include_colab_link": true
    },
    "kernelspec": {
      "name": "python3",
      "display_name": "Python 3"
    },
    "language_info": {
      "name": "python"
    }
  },
  "cells": [
    {
      "cell_type": "markdown",
      "metadata": {
        "id": "view-in-github",
        "colab_type": "text"
      },
      "source": [
        "<a href=\"https://colab.research.google.com/github/Alanthomas-2209/DATA-SCIENCE-LAB/blob/main/Deep-Learning/perceptronLearningAlgorithm.ipynb\" target=\"_parent\"><img src=\"https://colab.research.google.com/assets/colab-badge.svg\" alt=\"Open In Colab\"/></a>"
      ]
    },
    {
      "cell_type": "code",
      "execution_count": 6,
      "metadata": {
        "colab": {
          "base_uri": "https://localhost:8080/"
        },
        "id": "_iusgXkQ2kYY",
        "outputId": "6699c743-d91d-42c7-f41d-01e033068d50"
      },
      "outputs": [
        {
          "output_type": "stream",
          "name": "stdout",
          "text": [
            "Enter the weight(w1): .4\n",
            "Enter the weight(w2): -.4\n",
            "Enter the threshold value: 1\n",
            "Enter the learning rate: .2\n",
            "\n",
            "Current weights: w1: 0.6000000000000001 & w2: -0.2\n",
            "Current weights: w1: 0.8 & w2: 0.0\n",
            "Current weights: w1: 1.0 & w2: 0.2\n",
            "Current weights: w1: 0.8 & w2: 0.2\n",
            "\n",
            "Trained weights: w1: 0.8 & w2: 0.2\n",
            "Testing the perceptron:\n",
            "Input: (0, 0), Output: 0\n",
            "Input: (0, 1), Output: 0\n",
            "Input: (1, 0), Output: 0\n",
            "Input: (1, 1), Output: 1\n"
          ]
        }
      ],
      "source": [
        "# AND GATE\n",
        "\n",
        "import numpy as np\n",
        "\n",
        "w1 = float(input(\"Enter the weight(w1): \"))\n",
        "w2 = float(input(\"Enter the weight(w2): \"))\n",
        "threshold = float(input(\"Enter the threshold value: \"))\n",
        "learning_rate = float(input(\"Enter the learning rate: \"))\n",
        "\n",
        "print()\n",
        "def step_function(x, threshold):\n",
        "    if x >= threshold:\n",
        "        return 1\n",
        "    else:\n",
        "        return 0\n",
        "\n",
        "X = np.array([[0, 0], [0, 1], [1, 0], [1, 1]])\n",
        "target = np.array([0, 0, 0, 1])\n",
        "\n",
        "while True:\n",
        "    all_correct = True\n",
        "    for i in range(len(X)):\n",
        "        x = X[i]\n",
        "        expected_output = target[i]\n",
        "        weighted_sum = (w1 * x[0]) + (w2 * x[1])\n",
        "        output = step_function(weighted_sum, threshold)\n",
        "        if expected_output != output:\n",
        "            delta_w1 = learning_rate * (expected_output - output) * x[0]\n",
        "            delta_w2 = learning_rate * (expected_output - output) * x[1]\n",
        "            w1 += delta_w1\n",
        "            w2 += delta_w2\n",
        "            print(f\"Current weights: w1: {w1} & w2: {w2}\")\n",
        "            all_correct = False\n",
        "    if all_correct:\n",
        "        break\n",
        "\n",
        "print()\n",
        "print(f\"Trained weights: w1: {w1} & w2: {w2}\")\n",
        "print(\"Testing the perceptron:\")\n",
        "for x1 in [0, 1]:\n",
        "    for x2 in [0, 1]:\n",
        "        weighted_sum = (w1 * x1) + (w2 * x2)\n",
        "        output = step_function(weighted_sum, threshold)\n",
        "        print(f\"Input: ({x1}, {x2}), Output: {output}\")\n",
        "\n"
      ]
    },
    {
      "cell_type": "code",
      "source": [
        "# OR GATE\n",
        "\n",
        "import numpy as np\n",
        "\n",
        "w1 = float(input(\"Enter the weight(w1): \"))\n",
        "w2 = float(input(\"Enter the weight(w2): \"))\n",
        "threshold = float(input(\"Enter the threshold value: \"))\n",
        "learning_rate = float(input(\"Enter the learning rate: \"))\n",
        "\n",
        "print()\n",
        "def step_function(x, threshold):\n",
        "    if x >= threshold:\n",
        "        return 1\n",
        "    else:\n",
        "        return 0\n",
        "\n",
        "X = np.array([[0, 0], [0, 1], [1, 0], [1, 1]])\n",
        "target = np.array([0, 1, 1, 1])\n",
        "\n",
        "while True:\n",
        "    all_correct = True\n",
        "    for i in range(len(X)):\n",
        "        x = X[i]\n",
        "        expected_output = target[i]\n",
        "        weighted_sum = (w1 * x[0]) + (w2 * x[1])\n",
        "        output = step_function(weighted_sum, threshold)\n",
        "        if expected_output != output:\n",
        "            delta_w1 = learning_rate * (expected_output - output) * x[0]\n",
        "            delta_w2 = learning_rate * (expected_output - output) * x[1]\n",
        "            w1 += delta_w1\n",
        "            w2 += delta_w2\n",
        "            print(f\"Current weights: w1: {w1} & w2: {w2}\")\n",
        "            all_correct = False\n",
        "    if all_correct:\n",
        "        break\n",
        "\n",
        "print()\n",
        "print(f\"Trained weights: w1: {w1} & w2: {w2}\")\n",
        "print(\"Testing the perceptron:\")\n",
        "for x1 in [0, 1]:\n",
        "    for x2 in [0, 1]:\n",
        "        weighted_sum = (w1 * x1) + (w2 * x2)\n",
        "        output = step_function(weighted_sum, threshold)\n",
        "        print(f\"Input: ({x1}, {x2}), Output: {output}\")\n"
      ],
      "metadata": {
        "colab": {
          "base_uri": "https://localhost:8080/"
        },
        "id": "NzQj8JrDGbV-",
        "outputId": "2233a6ad-5a2e-4912-f83c-17e02299209f"
      },
      "execution_count": 7,
      "outputs": [
        {
          "output_type": "stream",
          "name": "stdout",
          "text": [
            "Enter the weight(w1): .4\n",
            "Enter the weight(w2): -.4\n",
            "Enter the threshold value: 1\n",
            "Enter the learning rate: .2\n",
            "\n",
            "Current weights: w1: 0.4 & w2: -0.2\n",
            "Current weights: w1: 0.6000000000000001 & w2: -0.2\n",
            "Current weights: w1: 0.8 & w2: 0.0\n",
            "Current weights: w1: 0.8 & w2: 0.2\n",
            "Current weights: w1: 1.0 & w2: 0.2\n",
            "Current weights: w1: 1.0 & w2: 0.4\n",
            "Current weights: w1: 1.0 & w2: 0.6000000000000001\n",
            "Current weights: w1: 1.0 & w2: 0.8\n",
            "Current weights: w1: 1.0 & w2: 1.0\n",
            "\n",
            "Trained weights: w1: 1.0 & w2: 1.0\n",
            "Testing the perceptron:\n",
            "Input: (0, 0), Output: 0\n",
            "Input: (0, 1), Output: 1\n",
            "Input: (1, 0), Output: 1\n",
            "Input: (1, 1), Output: 1\n"
          ]
        }
      ]
    }
  ]
}