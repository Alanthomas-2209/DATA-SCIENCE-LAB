{
  "cells": [
    {
      "cell_type": "markdown",
      "metadata": {
        "id": "view-in-github",
        "colab_type": "text"
      },
      "source": [
        "<a href=\"https://colab.research.google.com/github/Alanthomas-2209/DATA-SCIENCE-LAB/blob/main/CO1/Outliers%20/Using%20Standard%20Deviation/SD.ipynb\" target=\"_parent\"><img src=\"https://colab.research.google.com/assets/colab-badge.svg\" alt=\"Open In Colab\"/></a>"
      ]
    },
    {
      "cell_type": "code",
      "execution_count": 6,
      "metadata": {
        "colab": {
          "base_uri": "https://localhost:8080/"
        },
        "id": "Kk9o4oxY7GfR",
        "outputId": "036b40bd-48ac-49de-e3c0-a04e968275e9"
      },
      "outputs": [
        {
          "output_type": "stream",
          "name": "stdout",
          "text": [
            "127.07942116080001\n",
            "Outliers:\n",
            "       Index  Weight(Pounds)\n",
            "249      250        84.35980\n",
            "367      368       168.22900\n",
            "446      447       162.41090\n",
            "727      728        83.08527\n",
            "1332    1333       162.87370\n",
            "...      ...             ...\n",
            "21101  21102        85.98927\n",
            "22282  22283        91.37972\n",
            "22738  22739        87.80417\n",
            "22945  22946        78.01476\n",
            "24610  24611        82.38298\n",
            "\n",
            "[69 rows x 2 columns]\n"
          ]
        }
      ],
      "source": [
        "import pandas as pd\n",
        "\n",
        "df = pd.read_csv('/content/weightdata.csv')\n",
        "\n",
        "# Access the 'Weight(Pounds)' column\n",
        "weights = df['Weight(Pounds)']\n",
        "\n",
        "# Calculate mean and standard deviation\n",
        "mean_weight = weights.mean()\n",
        "print(mean_weight)\n",
        "std_dev_weight = weights.std()\n",
        "\n",
        "# Define a threshold for outliers (e.g., consider values beyond 2 standard deviations as outliers)\n",
        "threshold = 3\n",
        "\n",
        "# Detect outliers\n",
        "outliers = df[(df['Weight(Pounds)'] > mean_weight + threshold * std_dev_weight) |\n",
        "              (df['Weight(Pounds)'] < mean_weight - threshold * std_dev_weight)]\n",
        "\n",
        "# Display the outliers\n",
        "print(\"Outliers:\")\n",
        "print(outliers)"
      ]
    },
    {
      "cell_type": "code",
      "execution_count": 4,
      "metadata": {
        "colab": {
          "base_uri": "https://localhost:8080/"
        },
        "id": "RXIr9CfQ7GfT",
        "outputId": "e80b2acc-0493-49b7-eb57-f1b4091e4d73"
      },
      "outputs": [
        {
          "output_type": "stream",
          "name": "stdout",
          "text": [
            "Outliers:\n",
            "       Index  Weight(Pounds)\n",
            "249      250        84.35980\n",
            "367      368       168.22900\n",
            "446      447       162.41090\n",
            "727      728        83.08527\n",
            "1332    1333       162.87370\n",
            "...      ...             ...\n",
            "21101  21102        85.98927\n",
            "22282  22283        91.37972\n",
            "22738  22739        87.80417\n",
            "22945  22946        78.01476\n",
            "24610  24611        82.38298\n",
            "\n",
            "[69 rows x 2 columns]\n",
            "Outliers exported to 'outliers.csv'\n"
          ]
        }
      ],
      "source": [
        "import pandas as pd\n",
        "\n",
        "# Replace 'weightdata.csv' with the actual path to your CSV file\n",
        "file_path = '/content/weightdata.csv'\n",
        "\n",
        "# Read the CSV file into a pandas DataFrame\n",
        "df = pd.read_csv(file_path)\n",
        "\n",
        "# Access the 'Weight(Pounds)' column\n",
        "weights = df['Weight(Pounds)']\n",
        "\n",
        "# Calculate mean and standard deviation\n",
        "mean_weight = weights.mean()\n",
        "std_dev_weight = weights.std()\n",
        "\n",
        "# Define a threshold for outliers (e.g., consider values beyond 2 standard deviations as outliers)\n",
        "threshold = 3\n",
        "\n",
        "# Detect outliers\n",
        "outliers = df[(df['Weight(Pounds)'] > mean_weight + threshold * std_dev_weight) |\n",
        "              (df['Weight(Pounds)'] < mean_weight - threshold * std_dev_weight)]\n",
        "\n",
        "# Display the outliers\n",
        "print(\"Outliers:\")\n",
        "print(outliers)\n",
        "\n",
        "# Save outliers to a new CSV file\n",
        "outliers.to_csv('outliers.csv', index=False)\n",
        "print(\"Outliers exported to 'outliers.csv'\")\n"
      ]
    }
  ],
  "metadata": {
    "kernelspec": {
      "display_name": "Python 3",
      "language": "python",
      "name": "python3"
    },
    "language_info": {
      "codemirror_mode": {
        "name": "ipython",
        "version": 3
      },
      "file_extension": ".py",
      "mimetype": "text/x-python",
      "name": "python",
      "nbconvert_exporter": "python",
      "pygments_lexer": "ipython3",
      "version": "3.11.5"
    },
    "colab": {
      "provenance": [],
      "include_colab_link": true
    }
  },
  "nbformat": 4,
  "nbformat_minor": 0
}