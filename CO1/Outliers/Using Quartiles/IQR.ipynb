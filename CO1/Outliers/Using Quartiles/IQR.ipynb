{
  "cells": [
    {
      "cell_type": "code",
      "execution_count": 3,
      "metadata": {
        "colab": {
          "base_uri": "https://localhost:8080/"
        },
        "id": "ZyDc3zGHY83R",
        "outputId": "6cb0e561-58bd-4df8-c3c9-27e3be2a4ab3"
      },
      "outputs": [
        {
          "output_type": "stream",
          "name": "stdout",
          "text": [
            "Outliers:\n",
            "       Index  Weight(Pounds)\n",
            "156      157       158.95620\n",
            "249      250        84.35980\n",
            "293      294        92.74955\n",
            "367      368       168.22900\n",
            "446      447       162.41090\n",
            "...      ...             ...\n",
            "24187  24188       161.85040\n",
            "24610  24611        82.38298\n",
            "24750  24751       159.63440\n",
            "24835  24836        94.40946\n",
            "24889  24890       161.85320\n",
            "\n",
            "[191 rows x 2 columns]\n",
            "Outliers (based on quartiles) exported to 'outliers_quartiles.csv'\n"
          ]
        }
      ],
      "source": [
        "import pandas as pd\n",
        "\n",
        "# Replace 'weightdata.csv' with the actual path to your CSV file\n",
        "file_path = 'weightdata.csv'\n",
        "\n",
        "# Read the CSV file into a pandas DataFrame\n",
        "df = pd.read_csv(file_path)\n",
        "\n",
        "# Access the 'Weight(Pounds)' column\n",
        "weights = df['Weight(Pounds)']\n",
        "\n",
        "# Calculate the first quartile (Q1) and third quartile (Q3)\n",
        "Q1 = weights.quantile(0.25)\n",
        "Q3 = weights.quantile(0.75)\n",
        "\n",
        "# Calculate the interquartile range (IQR)\n",
        "IQR = Q3 - Q1\n",
        "\n",
        "# Define a threshold for outliers (e.g., consider values beyond 1.5 times IQR as outliers)\n",
        "threshold = 1.5\n",
        "\n",
        "# Detect outliers\n",
        "outliers = df[(df['Weight(Pounds)'] > Q3 + threshold * IQR) |\n",
        "              (df['Weight(Pounds)'] < Q1 - threshold * IQR)]\n",
        "\n",
        "# Display the outliers\n",
        "print(\"Outliers:\")\n",
        "print(outliers)\n",
        "\n",
        "# Save outliers to a new CSV file\n",
        "outliers.to_csv('outliers_quartiles.csv', index=False)\n",
        "print(\"Outliers (based on quartiles) exported to 'outliers_quartiles.csv'\")\n"
      ]
    }
  ],
  "metadata": {
    "kernelspec": {
      "display_name": "Python 3",
      "language": "python",
      "name": "python3"
    },
    "language_info": {
      "codemirror_mode": {
        "name": "ipython",
        "version": 3
      },
      "file_extension": ".py",
      "mimetype": "text/x-python",
      "name": "python",
      "nbconvert_exporter": "python",
      "pygments_lexer": "ipython3",
      "version": "3.11.5"
    },
    "colab": {
      "provenance": []
    }
  },
  "nbformat": 4,
  "nbformat_minor": 0
}